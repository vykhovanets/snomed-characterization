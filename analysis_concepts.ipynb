{
 "cells": [
  {
   "cell_type": "code",
   "execution_count": 1,
   "id": "98431e3e-ac09-4c3f-9039-bdf25a5b536f",
   "metadata": {},
   "outputs": [],
   "source": [
    "# default dependencies\n",
    "import pandas as pd\n",
    "import duckdb\n",
    "\n",
    "# services\n",
    "from snomed_characterization.services.import_duckdb_concepts_to_snomed_graph import (\n",
    "    ImportDuckDBConceptsToSNOMEDGraph,\n",
    ")\n",
    "\n",
    "from snomed_characterization.services.load_snomed_concepts_from_duckdb import (\n",
    "    LoadSNOMEDConceptsFromDuckdb,\n",
    ")\n",
    "\n",
    "from snomed_characterization.services.import_duckdb_concepts_to_snomed_complete_graph import (\n",
    "    ImportDuckDBConceptsToCompleteSNOMEDGraph)\n",
    "\n",
    "#graph\n",
    "from snomed_characterization.snomed_graph import SNOMEDGraph\n",
    "from snomed_characterization.graphs.snomed_complete_graph import SNOMEDCompleteGraph\n"
   ]
  },
  {
   "cell_type": "markdown",
   "id": "55fcfee4-63ab-475f-9911-a7349cf5d2dd",
   "metadata": {},
   "source": [
    "# Create DuckDB DB"
   ]
  },
  {
   "cell_type": "code",
   "execution_count": 2,
   "id": "2265332e-7f79-4006-9446-4379023c6e90",
   "metadata": {},
   "outputs": [],
   "source": [
    "# define paths\n",
    "path_concepts = \"data/vocabulary/CONCEPT.csv\"\n",
    "path_concept_ancestors = \"data/vocabulary/CONCEPT_ANCESTOR.csv\"\n",
    "\n",
    "source_con = duckdb.connect(\"data/data.duckdb\", read_only=True)\n",
    "\n",
    "# attach existing duckdb\n",
    "target_con = duckdb.connect('data/full_data.duckdb')\n",
    "\n",
    "# Load CSVs as tables\n",
    "target_con.execute(f\"CREATE TABLE IF not exists concept_ancestor AS SELECT * FROM read_csv_auto('{path_concept_ancestors}');\")\n",
    "target_con.execute(f\"CREATE TABLE IF not exists concept AS SELECT * FROM read_csv_auto('{path_concepts}', quote='|');\")\n",
    "\n",
    "patients_df = source_con.execute(\"SELECT * FROM person\").fetchdf()\n",
    "target_con.execute(\"CREATE TABLE  IF NOT EXISTS person AS SELECT * FROM patients_df\")\n",
    "\n",
    "target_con.close()"
   ]
  },
  {
   "cell_type": "markdown",
   "id": "233a89ef-b69d-40ad-89f8-b880a9ad791b",
   "metadata": {},
   "source": [
    "there are 100 concepts we are interested on for people."
   ]
  },
  {
   "cell_type": "markdown",
   "id": "b834800f-baaa-4975-ab22-708f738b6c8d",
   "metadata": {},
   "source": [
    "| Column Name            | Data Type  |\n",
    "|------------------------|------------|\n",
    "| concept_id             | BIGINT     |\n",
    "| concept_name           | VARCHAR    |\n",
    "| domain_id              | VARCHAR    |\n",
    "| vocabulary_id          | VARCHAR    |\n",
    "| concept_class_id       | VARCHAR    |\n",
    "| standard_concept       | VARCHAR    |\n",
    "| concept_code           | VARCHAR    |\n",
    "| valid_start_date       | BIGINT     |\n",
    "| valid_end_date         | BIGINT     |\n",
    "| invalid_reason         | VARCHAR    |\n",
    "| ancestor_concept_id    | BIGINT     |\n",
    "| descendant_concept_id  | BIGINT     |\n",
    "| min_levels_of_separation | BIGINT   |\n",
    "| max_levels_of_separation | BIGINT   |"
   ]
  },
  {
   "cell_type": "code",
   "execution_count": 3,
   "id": "afc69529-8c4f-4f42-9fb4-1798ee8ed769",
   "metadata": {},
   "outputs": [
    {
     "name": "stdout",
     "output_type": "stream",
     "text": [
      "99514\n"
     ]
    }
   ],
   "source": [
    "#import data \n",
    "db_path = \"data/full_data.duckdb\"\n",
    "g = SNOMEDGraph()\n",
    "importer_service = ImportDuckDBConceptsToSNOMEDGraph(db_path, g)\n",
    "\n",
    "_ = importer_service.call()\n",
    "\n",
    "# nx graph\n",
    "graph = g.graph\n",
    "\n",
    "print(len(graph.nodes))\n"
   ]
  },
  {
   "cell_type": "code",
   "execution_count": 4,
   "id": "97acde63-fb92-496c-880d-0fb2469fb99c",
   "metadata": {},
   "outputs": [],
   "source": [
    "zero_out_degree_nodes = [node for node, degree in graph.out_degree() if degree == 0] "
   ]
  },
  {
   "cell_type": "code",
   "execution_count": 5,
   "id": "e77cc4b3-8875-4a14-b970-f90231694803",
   "metadata": {},
   "outputs": [
    {
     "data": {
      "text/plain": [
       "803"
      ]
     },
     "execution_count": 5,
     "metadata": {},
     "output_type": "execute_result"
    }
   ],
   "source": [
    "len(zero_out_degree_nodes)"
   ]
  },
  {
   "cell_type": "code",
   "execution_count": 6,
   "id": "de650067-11a9-461d-b599-1fe0fa1531ad",
   "metadata": {},
   "outputs": [],
   "source": [
    "conn = duckdb.connect('data/full_data.duckdb')\n",
    "\n",
    "q_domains = \"select distinct(domain_id) from concept\"\n",
    "df = conn.execute(q_domains).fetchdf()\n",
    "\n",
    "df\n",
    "\n",
    "conn.close()\n"
   ]
  },
  {
   "cell_type": "markdown",
   "id": "1ebe4c8d-2f90-4120-b548-9b2edab9a0ae",
   "metadata": {},
   "source": [
    "# Full Graph with descriptions"
   ]
  },
  {
   "cell_type": "markdown",
   "id": "2e0d28c2-3843-4895-97c8-6d3ba3fb65b8",
   "metadata": {},
   "source": [
    "## domains list\n",
    "\n",
    "\n",
    "## sql\n",
    "This query was used to create the concepts\n",
    "```sql\n",
    "    select * from concept c \n",
    "    left join concept_ancestor ca\n",
    "    on c.concept_id=ca.descendant_concept_id\n",
    "    where c.invalid_reason is  null\n",
    "    AND ca.min_levels_of_separation=1\n",
    "     and standard_concept is not null\n",
    "     and domain_id='Condition'\n",
    "```"
   ]
  },
  {
   "cell_type": "code",
   "execution_count": 7,
   "id": "99384eb5-5628-4d3c-bbef-bd90dca2d11d",
   "metadata": {},
   "outputs": [
    {
     "name": "stdout",
     "output_type": "stream",
     "text": [
      "99224\n"
     ]
    }
   ],
   "source": [
    "db_path = \"data/full_data.duckdb\"\n",
    "g2 = SNOMEDCompleteGraph()\n",
    "\n",
    "importer_service = ImportDuckDBConceptsToCompleteSNOMEDGraph(db_path, g2)\n",
    "\n",
    "_ = importer_service.call()\n",
    "\n",
    "# nx graph\n",
    "graph = g2.graph\n",
    "\n",
    "print(len(graph.nodes))\n"
   ]
  },
  {
   "cell_type": "code",
   "execution_count": 8,
   "id": "b6b60f21-eb99-4a23-a116-c4ec76a0a19c",
   "metadata": {},
   "outputs": [
    {
     "name": "stdout",
     "output_type": "stream",
     "text": [
      "Graph successfully loaded into Neo4j\n"
     ]
    }
   ],
   "source": [
    "## Creating neo4j graph\n",
    "from snomed_characterization.services.import_nx_graph_into_neo4j import (\n",
    "    ImportNXGraphIntoNeo4J,\n",
    ")\n",
    "\n",
    "db_path = \"data/full_data.duckdb\"\n",
    "service = ImportNXGraphIntoNeo4J(\n",
    "    db_path=db_path, uri=\"bolt://localhost:\", user=\"neo4j\", password=\"12345678\"\n",
    ")\n",
    "service.call()\n"
   ]
  },
  {
   "attachments": {},
   "cell_type": "markdown",
   "id": "0e8d10af-013c-4e26-9bdc-84a88eb216c4",
   "metadata": {},
   "source": [
    "# Graph of concepts from Domain 'Condition'\n",
    "\n",
    "![SNOMED](images/sample_snomed.png)"
   ]
  }
 ],
 "metadata": {
  "kernelspec": {
   "display_name": "Python 3 (ipykernel)",
   "language": "python",
   "name": "python3"
  },
  "language_info": {
   "codemirror_mode": {
    "name": "ipython",
    "version": 3
   },
   "file_extension": ".py",
   "mimetype": "text/x-python",
   "name": "python",
   "nbconvert_exporter": "python",
   "pygments_lexer": "ipython3",
   "version": "3.12.5"
  }
 },
 "nbformat": 4,
 "nbformat_minor": 5
}
